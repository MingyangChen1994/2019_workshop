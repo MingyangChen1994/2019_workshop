{
 "cells": [
  {
   "cell_type": "markdown",
   "metadata": {},
   "source": [
    "# 松山湖 Workshop\n",
    "#### 本文件主要参考自 [http://workshop.materialsproject.org/pymatgen/core/pymatgen_core.ipynb](http://workshop.materialsproject.org/pymatgen/core/pymatgen_core.ipynb)"
   ]
  },
  {
   "cell_type": "markdown",
   "metadata": {},
   "source": [
    "![pymatgen logo](http://pymatgen.org/_images/pymatgen.png)\n",
    "\n",
    "# 0. What is pymatgen?\n",
    "\n",
    "Pymatgen (Python Materials Genomics) 是一款为 Materials Project 提供科学支持的软件包. 其包含健壮并且高效的处理晶体结构以及计算结果的函数库, 利用其内置的丰富的工具, 它可以帮助我们更好地处理材料相关的数据.\n",
    "\n",
    "## 0.0 Core functionality\n",
    "\n",
    "- Create, identify, and manipulate crystal structures and molecules\n",
    "- <u>Write input and output files for most electronic structure codes</u>\n",
    "- <u>Analyze density of states, bandstructures, X-ray diffraction spectra</u>\n",
    "- Perform tensor-based analysis, including elastic and piezoelectric tensors\n",
    "- Characterize the local chemical environment of structural sites\n",
    "- Create pourbaix diagrams and phase diagrams\n",
    "- Match crystal structures to each other and perform symmetry analysis\n",
    "- Match substrates based on geometry and elastic behavior\n",
    "- Create and manipulate surfaces\n",
    "- Do unit conversions\n",
    "- Get basic information about chemical identity\n",
    "- Includes a wide variety of other analysis tools, including estimating the cost of a material based on chemical abundance, or its geographical distribution of elements\n",
    "\n",
    "\n",
    "## 0.1 How do I install pymatgen?\n",
    "\n",
    "`pymatgen` 是一款 Python 程序包, 可以通过以下两种方式进行安装使用. pymatgen 可以通过 pip:\n",
    "\n",
    "`pip install pymatgen`\n",
    "\n",
    "或者 conda:\n",
    "\n",
    "`conda install --channel matsci pymatgen`\n",
    "\n",
    "目前, 我们推荐使用 3.6 版本及以上的 Python 运行.\n",
    "\n",
    "\n",
    "## 0.2 Where can I find help and how do I get involved?\n",
    "\n",
    "* **For general help:** [pymatgen Google Groups mailing list](https://groups.google.com/forum/#!forum/pymatgen) is a place to ask questions.\n",
    "\n",
    "* **To report bugs:** The [Github Issues](https://github.com/materialsproject/github) page is a good place to report bugs.\n",
    "\n",
    "* **For Materials Project data and website discussions:** The Materials Project  has its community [Materials Project Discussion](https://discuss.materialsproject.org) forum. \n",
    "\n",
    "* **For more example notebooks:** [matgenb](http://matgenb.materialsvirtuallab.org) is a new resource of Jupyter notebooks demonstrating various pymatgen functionality."
   ]
  },
  {
   "cell_type": "markdown",
   "metadata": {},
   "source": [
    "# 1. Verify we have pymatgen installed"
   ]
  },
  {
   "cell_type": "markdown",
   "metadata": {},
   "source": [
    "通过上面的命令, 我们已经将 `ptmatgen` 安装完毕. 可以通过以下命令检测是否安装成功. 如果运行无警告和报错, 则证明没有问题."
   ]
  },
  {
   "cell_type": "code",
   "execution_count": 1,
   "metadata": {},
   "outputs": [],
   "source": [
    "import pymatgen"
   ]
  },
  {
   "cell_type": "markdown",
   "metadata": {},
   "source": [
    "当然, 也可以查看安装的 `pymatgen` 的版本."
   ]
  },
  {
   "cell_type": "code",
   "execution_count": 2,
   "metadata": {},
   "outputs": [
    {
     "name": "stdout",
     "output_type": "stream",
     "text": [
      "2019.2.4\n"
     ]
    }
   ],
   "source": [
    "print(pymatgen.__version__)"
   ]
  },
  {
   "cell_type": "markdown",
   "metadata": {},
   "source": [
    "我们也可以以下命令查看, pymatgen 安装在电脑上的哪个地方了:"
   ]
  },
  {
   "cell_type": "code",
   "execution_count": 3,
   "metadata": {},
   "outputs": [
    {
     "name": "stdout",
     "output_type": "stream",
     "text": [
      "C:\\Users\\Cloudink\\Anaconda3\\lib\\site-packages\\pymatgen\\__init__.py\n"
     ]
    }
   ],
   "source": [
    "print(pymatgen.__file__)"
   ]
  },
  {
   "cell_type": "code",
   "execution_count": 4,
   "metadata": {},
   "outputs": [
    {
     "name": "stdout",
     "output_type": "stream",
     "text": [
      "3.6.4 |Anaconda custom (64-bit)| (default, Jan 16 2018, 10:22:32) [MSC v.1900 64 bit (AMD64)]\n"
     ]
    }
   ],
   "source": [
    "# 查看 python 的版本号\n",
    "import sys\n",
    "print(sys.version)"
   ]
  },
  {
   "cell_type": "markdown",
   "metadata": {},
   "source": [
    "如果遇到问题的话, 先检查自己使用的版本号是否为最新版本."
   ]
  },
  {
   "cell_type": "markdown",
   "metadata": {},
   "source": [
    "# 2. Structures and Molecules\n",
    "\n",
    "在 pymatgen 里面, 主要把存储和处理的数据分为 [**`Structure`**](http://pymatgen.org/pymatgen.core.structure.html#pymatgen.core.structure.Structure) 和 [**`Molecule`**](http://pymatgen.org/pymatgen.core.structure.html#pymatgen.core.structure.Molecule) 这两类对象.\n",
    "\n",
    "通常来说, 我们更多的使用 `Structure`. 两者之间的主要区别其实就反应在 `Stucture` 需要支持更多的周期性的要求.\n",
    "\n",
    "创建和使用上述的两类对象的过程其实非常的简单, 我们先介绍 `Molecule` 这一类对象.\n",
    "\n",
    "\n",
    "## 2.0 Creating a Molecule\n",
    "\n",
    "首先我们需要导出必要的模块 `Molecule`:"
   ]
  },
  {
   "cell_type": "code",
   "execution_count": 5,
   "metadata": {},
   "outputs": [],
   "source": [
    "from pymatgen import Molecule"
   ]
  },
  {
   "cell_type": "markdown",
   "metadata": {},
   "source": [
    "如果你使用 Jupyter notebook 的话, 你可以直接点击相对应的程序, 让后使用 **Shift+Tab** 就可以输出对应的帮助文档. 在帮助里面包含了所有的关键字参数和位置参数的信息, 通常来说, 也会包含一些函数功能的说明和例子.\n",
    "\n",
    "`Molecule` 需要输入的 **参数** 有 `species` 和 `coords`, 以及 **关键字参数** `charge`, `spin_multiplicity`, `validate_proximity` 和 `site_properties`.\n",
    "\n",
    "**关键字参数和参数的区别.**"
   ]
  },
  {
   "cell_type": "code",
   "execution_count": 6,
   "metadata": {},
   "outputs": [],
   "source": [
    "my_molecule = Molecule(['C','O'], [[0, 0, 0], [0, 0, 1.2]])"
   ]
  },
  {
   "cell_type": "code",
   "execution_count": 7,
   "metadata": {},
   "outputs": [
    {
     "name": "stdout",
     "output_type": "stream",
     "text": [
      "Full Formula (C1 O1)\n",
      "Reduced Formula: CO\n",
      "Charge = 0, Spin Mult = 1\n",
      "Sites (2)\n",
      "0 C     0.000000     0.000000     0.000000\n",
      "1 O     0.000000     0.000000     1.200000\n"
     ]
    }
   ],
   "source": [
    "print(my_molecule)"
   ]
  },
  {
   "cell_type": "markdown",
   "metadata": {},
   "source": [
    "## 2.1 What's in a Molecule? Introducing Sites, Elements and Species"
   ]
  },
  {
   "cell_type": "code",
   "execution_count": 8,
   "metadata": {
    "scrolled": true
   },
   "outputs": [
    {
     "name": "stdout",
     "output_type": "stream",
     "text": [
      "[[0.  0.  0. ]\n",
      " [0.  0.  1.2]]\n"
     ]
    }
   ],
   "source": [
    "# 获取坐标信息\n",
    "print(my_molecule.cart_coords)"
   ]
  },
  {
   "cell_type": "code",
   "execution_count": 9,
   "metadata": {},
   "outputs": [
    {
     "name": "stdout",
     "output_type": "stream",
     "text": [
      "[0.         0.         0.68544132]\n"
     ]
    }
   ],
   "source": [
    "# 计算质心的位置\n",
    "print(my_molecule.center_of_mass)"
   ]
  },
  {
   "cell_type": "markdown",
   "metadata": {},
   "source": [
    "如果你想看 molecule 中的所有的函数, 可以在输入 `my_molecule.` 以后按下 **Tab** 查看自动补全. 比如, 修改分子的电荷."
   ]
  },
  {
   "cell_type": "code",
   "execution_count": 10,
   "metadata": {},
   "outputs": [],
   "source": [
    "my_molecule.set_charge_and_spin(1)"
   ]
  },
  {
   "cell_type": "code",
   "execution_count": 11,
   "metadata": {},
   "outputs": [
    {
     "name": "stdout",
     "output_type": "stream",
     "text": [
      "Full Formula (C1 O1)\n",
      "Reduced Formula: CO\n",
      "Charge = 1, Spin Mult = 2\n",
      "Sites (2)\n",
      "0 C     0.000000     0.000000     0.000000\n",
      "1 O     0.000000     0.000000     1.200000\n"
     ]
    }
   ],
   "source": [
    "print(my_molecule)"
   ]
  },
  {
   "cell_type": "markdown",
   "metadata": {},
   "source": [
    "一个分子其实是有一个个原子组成的, 在 pymatgen 中, 其实就是一系列的 `Site` 对象组成的列表."
   ]
  },
  {
   "cell_type": "code",
   "execution_count": 12,
   "metadata": {},
   "outputs": [
    {
     "data": {
      "text/plain": [
       "2"
      ]
     },
     "execution_count": 12,
     "metadata": {},
     "output_type": "execute_result"
    }
   ],
   "source": [
    "# obtain the total number of sites in the molecule\n",
    "len(my_molecule)"
   ]
  },
  {
   "cell_type": "code",
   "execution_count": 13,
   "metadata": {
    "scrolled": true
   },
   "outputs": [
    {
     "data": {
      "text/plain": [
       "Site: C (0.0000, 0.0000, 0.0000)"
      ]
     },
     "execution_count": 13,
     "metadata": {},
     "output_type": "execute_result"
    }
   ],
   "source": [
    "# access the first site\n",
    "my_molecule[0]"
   ]
  },
  {
   "cell_type": "markdown",
   "metadata": {},
   "source": [
    "在 `Site` 中, 其实包含了关于这个原子的所有信息."
   ]
  },
  {
   "cell_type": "code",
   "execution_count": 14,
   "metadata": {},
   "outputs": [],
   "source": [
    "# as shorthand, we assign the first site of our molecule to a new variable, site0\n",
    "site0 = my_molecule[0]"
   ]
  },
  {
   "cell_type": "code",
   "execution_count": 15,
   "metadata": {},
   "outputs": [
    {
     "data": {
      "text/plain": [
       "array([0, 0, 0])"
      ]
     },
     "execution_count": 15,
     "metadata": {},
     "output_type": "execute_result"
    }
   ],
   "source": [
    "site0.coords"
   ]
  },
  {
   "cell_type": "code",
   "execution_count": 16,
   "metadata": {},
   "outputs": [
    {
     "data": {
      "text/plain": [
       "Element C"
      ]
     },
     "execution_count": 16,
     "metadata": {},
     "output_type": "execute_result"
    }
   ],
   "source": [
    "site0.specie"
   ]
  },
  {
   "cell_type": "markdown",
   "metadata": {},
   "source": [
    "上面, 我们展示了这个 \"碳原子\", 可以同时拥有 [**`Element`**](http://pymatgen.org/pymatgen.core.periodic_table.html#pymatgen.core.periodic_table.Element), [**`Specie`**](http://pymatgen.org/pymatgen.core.periodic_table.html#pymatgen.core.periodic_table.Specie) [**`Composition`**](http://pymatgen.org/pymatgen.core.composition.html#pymatgen.core.composition.Composition) 这几个 \"属性\". 我们将逐一展开分析."
   ]
  },
  {
   "cell_type": "code",
   "execution_count": 17,
   "metadata": {},
   "outputs": [],
   "source": [
    "from pymatgen import Element, Specie, Composition"
   ]
  },
  {
   "cell_type": "markdown",
   "metadata": {},
   "source": [
    "`Element` 就是元素周期表里面的元素"
   ]
  },
  {
   "cell_type": "code",
   "execution_count": 18,
   "metadata": {},
   "outputs": [],
   "source": [
    "my_element = Element('C')"
   ]
  },
  {
   "cell_type": "code",
   "execution_count": 19,
   "metadata": {},
   "outputs": [
    {
     "data": {
      "text/plain": [
       "0.3"
      ]
     },
     "execution_count": 19,
     "metadata": {},
     "output_type": "execute_result"
    }
   ],
   "source": [
    "# Elements have properties such as atomic mass, average ionic radius and more:\n",
    "my_element.average_ionic_radius"
   ]
  },
  {
   "cell_type": "markdown",
   "metadata": {},
   "source": [
    "A `Specie` can contain additional information, such as oxidation state:"
   ]
  },
  {
   "cell_type": "code",
   "execution_count": 20,
   "metadata": {},
   "outputs": [
    {
     "data": {
      "text/plain": [
       "Specie O2-"
      ]
     },
     "execution_count": 20,
     "metadata": {},
     "output_type": "execute_result"
    }
   ],
   "source": [
    "Specie('O', oxidation_state=-2)"
   ]
  },
  {
   "cell_type": "markdown",
   "metadata": {},
   "source": [
    "Or, for convenience:"
   ]
  },
  {
   "cell_type": "code",
   "execution_count": 21,
   "metadata": {},
   "outputs": [
    {
     "data": {
      "text/plain": [
       "Specie O2-"
      ]
     },
     "execution_count": 21,
     "metadata": {},
     "output_type": "execute_result"
    }
   ],
   "source": [
    "Specie.from_string('O2-')"
   ]
  },
  {
   "cell_type": "markdown",
   "metadata": {},
   "source": [
    "`Composition` 的含义就是不同配比的元素的组合, 一般在无序的模拟里面比较常用. "
   ]
  },
  {
   "cell_type": "code",
   "execution_count": 22,
   "metadata": {},
   "outputs": [
    {
     "data": {
      "text/plain": [
       "Comp: Cu0.5 Au0.5"
      ]
     },
     "execution_count": 22,
     "metadata": {},
     "output_type": "execute_result"
    }
   ],
   "source": [
    "# For example, this a site that holds 50% Au and 50% Cu would be set as follows:\n",
    "Composition({'Au': 0.5, 'Cu': 0.5})"
   ]
  },
  {
   "cell_type": "markdown",
   "metadata": {},
   "source": [
    "其实在我们创建一个 `Molecule` 以后, \"分子\" 的输入文件其实会被自动转化为上面三种介绍的 `Element`, `Specie` 或者 `Composition` 之一. 比如之前我们创建的 CO, 输入中的 `['C', 'O']` 参数就被自动转化成了 `[Element C, Element O]`."
   ]
  },
  {
   "cell_type": "markdown",
   "metadata": {},
   "source": [
    "## 2.2 Creating a Structure and Lattice"
   ]
  },
  {
   "cell_type": "markdown",
   "metadata": {},
   "source": [
    "创建 `Structure` 和创建 `Molecule` 的过程十分类似, 只是我们需要额外指定 `Lattice`. "
   ]
  },
  {
   "cell_type": "code",
   "execution_count": 23,
   "metadata": {},
   "outputs": [],
   "source": [
    "from pymatgen import Structure, Lattice"
   ]
  },
  {
   "cell_type": "markdown",
   "metadata": {},
   "source": [
    "A `Lattice` can be created in one of several ways. Such as by inputting a 3x3 matrix describing the individual lattice vectors. For example, a cubic lattice of length 5 Ångstrom:"
   ]
  },
  {
   "cell_type": "code",
   "execution_count": 24,
   "metadata": {},
   "outputs": [],
   "source": [
    "my_lattice = Lattice([[5, 0, 0], [0, 5, 0], [0, 0, 5]])"
   ]
  },
  {
   "cell_type": "code",
   "execution_count": 25,
   "metadata": {},
   "outputs": [
    {
     "data": {
      "text/plain": [
       "Lattice\n",
       "    abc : 5.0 5.0 5.0\n",
       " angles : 90.0 90.0 90.0\n",
       " volume : 125.0\n",
       "      A : 5.0 0.0 0.0\n",
       "      B : 0.0 5.0 0.0\n",
       "      C : 0.0 0.0 5.0"
      ]
     },
     "execution_count": 25,
     "metadata": {},
     "output_type": "execute_result"
    }
   ],
   "source": [
    "my_lattice"
   ]
  },
  {
   "cell_type": "markdown",
   "metadata": {},
   "source": [
    "我们也可以从描述晶格的一些参数出发."
   ]
  },
  {
   "cell_type": "code",
   "execution_count": 26,
   "metadata": {},
   "outputs": [],
   "source": [
    "my_lattice_2 = Lattice.from_parameters(5, 5, 5, 90, 90, 90)  # a, b, c, alpha, beta, gamma"
   ]
  },
  {
   "cell_type": "code",
   "execution_count": 27,
   "metadata": {},
   "outputs": [],
   "source": [
    "my_lattice_3 = Lattice.cubic(5)"
   ]
  },
  {
   "cell_type": "code",
   "execution_count": 28,
   "metadata": {},
   "outputs": [
    {
     "data": {
      "text/plain": [
       "True"
      ]
     },
     "execution_count": 28,
     "metadata": {},
     "output_type": "execute_result"
    }
   ],
   "source": [
    "my_lattice == my_lattice_2 == my_lattice_3"
   ]
  },
  {
   "cell_type": "markdown",
   "metadata": {},
   "source": [
    "Now, we can create a crystal structure very easily. Let's start with body-centered-cubic iron:"
   ]
  },
  {
   "cell_type": "code",
   "execution_count": 29,
   "metadata": {},
   "outputs": [],
   "source": [
    "bcc_fe = Structure(Lattice.cubic(2.8), [\"Fe\", \"Fe\"], [[0, 0, 0], [0.5, 0.5, 0.5]])"
   ]
  },
  {
   "cell_type": "code",
   "execution_count": 30,
   "metadata": {},
   "outputs": [
    {
     "name": "stdout",
     "output_type": "stream",
     "text": [
      "Full Formula (Fe2)\n",
      "Reduced Formula: Fe\n",
      "abc   :   2.800000   2.800000   2.800000\n",
      "angles:  90.000000  90.000000  90.000000\n",
      "Sites (2)\n",
      "  #  SP      a    b    c\n",
      "---  ----  ---  ---  ---\n",
      "  0  Fe    0    0    0\n",
      "  1  Fe    0.5  0.5  0.5\n"
     ]
    }
   ],
   "source": [
    "print(bcc_fe)"
   ]
  },
  {
   "cell_type": "markdown",
   "metadata": {},
   "source": [
    "Creating this `Structure` was similar to `Molecule`: we provided a list of elements and a list of positions. However, there are two key differences to `Molecule`: \n",
    "\n",
    "1. First is that we had to include our `Lattice` object when creating structure.\n",
    "2. since we have a lattice, we can define the positions of our sites in *fractional co-ordinates* with respect to that lattice instead of Cartesian co-ordinates.\n",
    "\n",
    "It's also possible to create an equivalent `Structure` using Cartesian co-ordinates:"
   ]
  },
  {
   "cell_type": "code",
   "execution_count": 31,
   "metadata": {},
   "outputs": [],
   "source": [
    "bcc_fe_from_cart = Structure(Lattice.cubic(2.8), [\"Fe\", \"Fe\"], [[0, 0, 0], [1.4, 1.4, 1.4]],\n",
    "                             coords_are_cartesian=True)"
   ]
  },
  {
   "cell_type": "code",
   "execution_count": 32,
   "metadata": {},
   "outputs": [
    {
     "name": "stdout",
     "output_type": "stream",
     "text": [
      "Full Formula (Fe2)\n",
      "Reduced Formula: Fe\n",
      "abc   :   2.800000   2.800000   2.800000\n",
      "angles:  90.000000  90.000000  90.000000\n",
      "Sites (2)\n",
      "  #  SP      a    b    c\n",
      "---  ----  ---  ---  ---\n",
      "  0  Fe    0    0    0\n",
      "  1  Fe    0.5  0.5  0.5\n"
     ]
    }
   ],
   "source": [
    "print(bcc_fe_from_cart)"
   ]
  },
  {
   "cell_type": "markdown",
   "metadata": {},
   "source": [
    "We see check that both structures are equivalent:"
   ]
  },
  {
   "cell_type": "code",
   "execution_count": 33,
   "metadata": {},
   "outputs": [
    {
     "data": {
      "text/plain": [
       "True"
      ]
     },
     "execution_count": 33,
     "metadata": {},
     "output_type": "execute_result"
    }
   ],
   "source": [
    "bcc_fe == bcc_fe_from_cart"
   ]
  },
  {
   "cell_type": "markdown",
   "metadata": {},
   "source": [
    "As in molecule, we can access properties of the structure, such as its volume:"
   ]
  },
  {
   "cell_type": "code",
   "execution_count": 34,
   "metadata": {},
   "outputs": [
    {
     "data": {
      "text/plain": [
       "21.951999999999995"
      ]
     },
     "execution_count": 34,
     "metadata": {},
     "output_type": "execute_result"
    }
   ],
   "source": [
    "bcc_fe.volume  # in Ångstroms^3"
   ]
  },
  {
   "cell_type": "markdown",
   "metadata": {},
   "source": [
    "## 2.3 Modifying a Structure"
   ]
  },
  {
   "cell_type": "markdown",
   "metadata": {},
   "source": [
    "利用之前创建的结果, 我们也可以轻而易举地将其扩展成 **超胞**."
   ]
  },
  {
   "cell_type": "code",
   "execution_count": 35,
   "metadata": {},
   "outputs": [],
   "source": [
    "bcc_fe_repeated = bcc_fe*(2,2,2)"
   ]
  },
  {
   "cell_type": "code",
   "execution_count": 36,
   "metadata": {},
   "outputs": [
    {
     "data": {
      "text/plain": [
       "Structure Summary\n",
       "Lattice\n",
       "    abc : 5.6 5.6 5.6\n",
       " angles : 90.0 90.0 90.0\n",
       " volume : 175.61599999999996\n",
       "      A : 5.6 0.0 0.0\n",
       "      B : 0.0 5.6 0.0\n",
       "      C : 0.0 0.0 5.6\n",
       "PeriodicSite: Fe (0.0000, 0.0000, 0.0000) [0.0000, 0.0000, 0.0000]\n",
       "PeriodicSite: Fe (0.0000, 0.0000, 2.8000) [0.0000, 0.0000, 0.5000]\n",
       "PeriodicSite: Fe (0.0000, 2.8000, 0.0000) [0.0000, 0.5000, 0.0000]\n",
       "PeriodicSite: Fe (0.0000, 2.8000, 2.8000) [0.0000, 0.5000, 0.5000]\n",
       "PeriodicSite: Fe (2.8000, 0.0000, 0.0000) [0.5000, 0.0000, 0.0000]\n",
       "PeriodicSite: Fe (2.8000, 0.0000, 2.8000) [0.5000, 0.0000, 0.5000]\n",
       "PeriodicSite: Fe (2.8000, 2.8000, 0.0000) [0.5000, 0.5000, 0.0000]\n",
       "PeriodicSite: Fe (2.8000, 2.8000, 2.8000) [0.5000, 0.5000, 0.5000]\n",
       "PeriodicSite: Fe (1.4000, 1.4000, 1.4000) [0.2500, 0.2500, 0.2500]\n",
       "PeriodicSite: Fe (1.4000, 1.4000, 4.2000) [0.2500, 0.2500, 0.7500]\n",
       "PeriodicSite: Fe (1.4000, 4.2000, 1.4000) [0.2500, 0.7500, 0.2500]\n",
       "PeriodicSite: Fe (1.4000, 4.2000, 4.2000) [0.2500, 0.7500, 0.7500]\n",
       "PeriodicSite: Fe (4.2000, 1.4000, 1.4000) [0.7500, 0.2500, 0.2500]\n",
       "PeriodicSite: Fe (4.2000, 1.4000, 4.2000) [0.7500, 0.2500, 0.7500]\n",
       "PeriodicSite: Fe (4.2000, 4.2000, 1.4000) [0.7500, 0.7500, 0.2500]\n",
       "PeriodicSite: Fe (4.2000, 4.2000, 4.2000) [0.7500, 0.7500, 0.7500]"
      ]
     },
     "execution_count": 36,
     "metadata": {},
     "output_type": "execute_result"
    }
   ],
   "source": [
    "bcc_fe_repeated"
   ]
  },
  {
   "cell_type": "markdown",
   "metadata": {},
   "source": [
    "修改晶体结构的方式远不止上面介绍的这一种, 比如我们可以修改缩放的因子, 对其中的某一个或者某一些原子进行替换和取代. 在 pymatgen 中, 已经准备好了一些 **变换 (transformations)** 进行更为复杂的晶体结构修改.(creating surfaces, grain boundaries or creating ordered approximations of disordered structure.)"
   ]
  },
  {
   "cell_type": "markdown",
   "metadata": {},
   "source": [
    "## 2.4 Creating Structure from Spacegroups"
   ]
  },
  {
   "cell_type": "markdown",
   "metadata": {},
   "source": [
    "Structures can also be created directly from their spacegroup:"
   ]
  },
  {
   "cell_type": "code",
   "execution_count": 37,
   "metadata": {},
   "outputs": [
    {
     "name": "stdout",
     "output_type": "stream",
     "text": [
      "Full Formula (Fe2)\n",
      "Reduced Formula: Fe\n",
      "abc   :   2.800000   2.800000   2.800000\n",
      "angles:  90.000000  90.000000  90.000000\n",
      "Sites (2)\n",
      "  #  SP      a    b    c\n",
      "---  ----  ---  ---  ---\n",
      "  0  Fe    0    0    0\n",
      "  1  Fe    0.5  0.5  0.5\n"
     ]
    }
   ],
   "source": [
    "bcc_fe = Structure.from_spacegroup(\"Im-3m\", Lattice.cubic(2.8), [\"Fe\"], [[0, 0, 0]])\n",
    "print(bcc_fe)"
   ]
  },
  {
   "cell_type": "code",
   "execution_count": 38,
   "metadata": {},
   "outputs": [
    {
     "name": "stdout",
     "output_type": "stream",
     "text": [
      "Full Formula (Na4 Cl4)\n",
      "Reduced Formula: NaCl\n",
      "abc   :   5.692000   5.692000   5.692000\n",
      "angles:  90.000000  90.000000  90.000000\n",
      "Sites (8)\n",
      "  #  SP      a    b    c\n",
      "---  ----  ---  ---  ---\n",
      "  0  Na+   0    0    0\n",
      "  1  Na+   0    0.5  0.5\n",
      "  2  Na+   0.5  0    0.5\n",
      "  3  Na+   0.5  0.5  0\n",
      "  4  Cl-   0.5  0.5  0.5\n",
      "  5  Cl-   0.5  0    0\n",
      "  6  Cl-   0    0.5  0\n",
      "  7  Cl-   0    0    0.5\n"
     ]
    }
   ],
   "source": [
    "nacl = Structure.from_spacegroup(\"Fm-3m\", Lattice.cubic(5.692), [\"Na+\", \"Cl-\"],\n",
    "                                 [[0, 0, 0], [0.5, 0.5, 0.5]])\n",
    "print(nacl)"
   ]
  },
  {
   "cell_type": "markdown",
   "metadata": {},
   "source": [
    "## 2.5 Creating a Disordered Structure"
   ]
  },
  {
   "cell_type": "markdown",
   "metadata": {},
   "source": [
    "Disordered structures are created using the syntax for compositions shown earlier. Here, we create a CuAu solid solution:"
   ]
  },
  {
   "cell_type": "code",
   "execution_count": 39,
   "metadata": {},
   "outputs": [
    {
     "name": "stdout",
     "output_type": "stream",
     "text": [
      "Full Formula (Cu2 Au2)\n",
      "Reduced Formula: CuAu\n",
      "abc   :   3.677000   3.677000   3.677000\n",
      "angles:  90.000000  90.000000  90.000000\n",
      "Sites (4)\n",
      "  #  SP                    a    b    c\n",
      "---  ------------------  ---  ---  ---\n",
      "  0  Cu:0.500, Au:0.500  0    0    0\n",
      "  1  Cu:0.500, Au:0.500  0    0.5  0.5\n",
      "  2  Cu:0.500, Au:0.500  0.5  0    0.5\n",
      "  3  Cu:0.500, Au:0.500  0.5  0.5  0\n"
     ]
    }
   ],
   "source": [
    "composition = {\"Cu\": 0.5, \"Au\":0.5}\n",
    "cu_au = Structure.from_spacegroup(\"Fm-3m\", Lattice.cubic(3.677), [composition], [[0, 0, 0]])\n",
    "print(cu_au)"
   ]
  },
  {
   "cell_type": "markdown",
   "metadata": {},
   "source": [
    "# 3. Input and Output"
   ]
  },
  {
   "cell_type": "markdown",
   "metadata": {},
   "source": [
    "## 3.0 Input/output from other standard file formats\n",
    "\n",
    "Pymatgen 支持非常多的第一性计算软件的输入/输出.\n",
    "\n",
    "* **Plane-wave DFT codes** including:\n",
    "  * [VASP](https://www.vasp.at)\n",
    "  * [Quantum ESPRESSO pwscf](https://www.quantum-espresso.org)\n",
    "  * [ABINIT](https://www.abinit.org)\n",
    "  * [exciting](http://exciting-code.org)\n",
    "* **Quantum chemistry codes** including:\n",
    "  * [Q-Chem](http://www.q-chem.com)\n",
    "  * [Gaussian](http://gaussian.com)\n",
    "  * [NWChem](http://www.nwchem-sw.org/index.php/Main_Page)\n",
    "* **Visualization and standard file formats** including:\n",
    "  * [CIF](https://www.iucr.org/resources/cif)\n",
    "  * [XCrySDen](http://www.xcrysden.org)\n",
    "  * [xyz](https://en.wikipedia.org/wiki/XYZ_file_format)\n",
    "* **Many others, including ...**\n",
    "    * [AiiDA](http://www.aiida.net)\n",
    "    * [FEFF](http://feff.phys.washington.edu)\n",
    "    * [ADF](https://www.scm.com/doc/ADF/index.html)\n",
    "    * [LAMMPS](https://lammps.sandia.gov)\n",
    "    * [Zeo++](http://www.zeoplusplus.org)\n",
    "    * [Fiesta](http://perso.neel.cnrs.fr/xavier.blase/fiesta/)\n",
    "    * [Phonopy](https://atztogo.github.io/phonopy/)\n",
    "    * CSSR\n",
    "    * xr\n",
    "    * [ATAT (mcsqs)](https://www.brown.edu/Departments/Engineering/Labs/avdw/atat/)\n",
    "    * [LOBSTER](http://www.cohp.de)\n",
    "* **and also adaptors to use input/output routines from other codes** including:\n",
    "  * [Atomic Simulation Environment (ASE)](https://wiki.fysik.dtu.dk/ase/)\n",
    "  * [Open Babel](http://openbabel.org/wiki/Main_Page)"
   ]
  },
  {
   "cell_type": "code",
   "execution_count": 40,
   "metadata": {},
   "outputs": [
    {
     "name": "stderr",
     "output_type": "stream",
     "text": [
      "C:\\Users\\Cloudink\\Anaconda3\\lib\\site-packages\\pymatgen\\io\\cif.py:37: UserWarning: Please install optional dependency pybtex if youwant to extract references from CIF files.\n",
      "  warnings.warn(\"Please install optional dependency pybtex if you\"\n"
     ]
    },
    {
     "name": "stdout",
     "output_type": "stream",
     "text": [
      "Full Formula (Nb16 O40)\n",
      "Reduced Formula: Nb2O5\n",
      "abc   :   3.861885  14.714739  15.436378\n",
      "angles: 104.895922  97.185452  97.526606\n",
      "Sites (56)\n",
      "  #  SP           a         b         c\n",
      "---  ----  --------  --------  --------\n",
      "  0  Nb    0.169637  0.247074  0.096428\n",
      "  1  Nb    0.305803  0.511873  0.097557\n",
      "  2  Nb    0.961103  0.023003  0.898803\n",
      "  3  Nb    0.329079  0.328964  0.371122\n",
      "  4  Nb    0.636261  0.67209   0.628918\n",
      "  5  Nb    0.828076  0.753513  0.903124\n",
      "  6  Nb    0.532266  0.408998  0.631902\n",
      "  7  Nb    0.78282   0.939912  0.628586\n",
      "  8  Nb    0.693758  0.488348  0.901824\n",
      "  9  Nb    0.038548  0.978004  0.100936\n",
      " 10  Nb    0.219435  0.060975  0.370982\n",
      " 11  Nb    0.557784  0.216612  0.899574\n",
      " 12  Nb    0.61544   0.862139  0.365606\n",
      " 13  Nb    0.387379  0.138624  0.633853\n",
      " 14  Nb    0.465408  0.592161  0.368071\n",
      " 15  Nb    0.440698  0.783598  0.099606\n",
      " 16  O     0.642207  0.232525  0.055067\n",
      " 17  O     0.628144  0.344071  0.910055\n",
      " 18  O     0.297975  0.092069  0.501416\n",
      " 19  O     0.128816  0.897444  0.358028\n",
      " 20  O     0.486574  0.06051   0.912768\n",
      " 21  O     0.387749  0.548909  0.220383\n",
      " 22  O     0.527073  0.834281  0.222325\n",
      " 23  O     0.05556   0.186216  0.925807\n",
      " 24  O     0.120423  0.017962  0.223546\n",
      " 25  O     0.755004  0.729365  0.782596\n",
      " 26  O     0.241734  0.271783  0.21724\n",
      " 27  O     0.772539  0.626362  0.917962\n",
      " 28  O     0.943183  0.814412  0.073704\n",
      " 29  O     0.453545  0.265272  0.645422\n",
      " 30  O     0.074552  0.090667  0.06131\n",
      " 31  O     0.587026  0.541516  0.637315\n",
      " 32  O     0.015181  0.395702  0.641484\n",
      " 33  O     0.308533  0.979167  0.638936\n",
      " 34  O     0.471861  0.16525   0.776841\n",
      " 35  O     0.611265  0.45126   0.778975\n",
      " 36  O     0.278913  0.183151  0.36335\n",
      " 37  O     0.413576  0.459575  0.362739\n",
      " 38  O     0.831814  0.314441  0.351078\n",
      " 39  O     0.371281  0.655958  0.088298\n",
      " 40  O     0.983113  0.604917  0.35754\n",
      " 41  O     0.880583  0.984157  0.77613\n",
      " 42  O     0.21121   0.486018  0.936928\n",
      " 43  O     0.724738  0.818122  0.637085\n",
      " 44  O     0.424413  0.358476  0.500163\n",
      " 45  O     0.787951  0.513865  0.06199\n",
      " 46  O     0.569844  0.642933  0.499744\n",
      " 47  O     0.703142  0.908146  0.497997\n",
      " 48  O     0.692789  0.021358  0.360189\n",
      " 49  O     0.872718  0.103146  0.640863\n",
      " 50  O     0.512989  0.940479  0.087223\n",
      " 51  O     0.356121  0.768374  0.944401\n",
      " 52  O     0.226495  0.374028  0.081118\n",
      " 53  O     0.547645  0.735439  0.354362\n",
      " 54  O     0.16531   0.685797  0.648687\n",
      " 55  O     0.924237  0.910325  0.938448\n"
     ]
    }
   ],
   "source": [
    "# import cif file\n",
    "struct = Structure.from_file('Nb2O5.cif')\n",
    "print(struct)"
   ]
  },
  {
   "cell_type": "markdown",
   "metadata": {},
   "source": [
    "# 3.1 Input/output within Materials Project codes"
   ]
  },
  {
   "cell_type": "markdown",
   "metadata": {},
   "source": [
    "Most objects like `Structure` in Materials Project codes including pymatgen and also [atomate](https://atomate.org), [custodian](https://pythonhosted.org/custodian/), [FireWorks](https://materialsproject.github.io/fireworks/), are \"MSONable\", named after \"Monty JSON\" from the [monty](http://guide.materialsvirtuallab.org/monty/) package. This means they can be easily converted to and from the JSON file format. This makes it really easy for us to pass objects between the different codes, and also to store them in a database like [MongoDB](https://www.mongodb.com) or save them to disk.\n",
    "\n",
    "Generally, objects that are MSONable will have `.as_dict()` and `.from_dict()` methods. To save or load from disk, the helpful `dumpfn` and `loadfn` functions from Monty can be used. These allow you to save not just, for example, a single `Structure` object, but a list or dictionary of many kinds of objects in Materials Project codes."
   ]
  },
  {
   "cell_type": "code",
   "execution_count": 41,
   "metadata": {},
   "outputs": [],
   "source": [
    "from monty.serialization import dumpfn, loadfn"
   ]
  },
  {
   "cell_type": "code",
   "execution_count": 42,
   "metadata": {},
   "outputs": [],
   "source": [
    "dumpfn(bcc_fe, \"bcc_fe.json\")\n",
    "new_struct = loadfn(\"bcc_fe.json\")\n",
    "bandstructure = loadfn(\"li2o_bs.json\")"
   ]
  },
  {
   "cell_type": "code",
   "execution_count": 43,
   "metadata": {},
   "outputs": [
    {
     "data": {
      "text/plain": [
       "{'@class': 'Structure',\n",
       " '@module': 'pymatgen.core.structure',\n",
       " 'charge': None,\n",
       " 'lattice': {'a': 2.8,\n",
       "  'alpha': 90.0,\n",
       "  'b': 2.8,\n",
       "  'beta': 90.0,\n",
       "  'c': 2.8,\n",
       "  'gamma': 90.0,\n",
       "  'matrix': [[2.8, 0.0, 0.0], [0.0, 2.8, 0.0], [0.0, 0.0, 2.8]],\n",
       "  'volume': 21.951999999999995},\n",
       " 'sites': [{'abc': [0.0, 0.0, 0.0],\n",
       "   'label': 'Fe',\n",
       "   'species': [{'element': 'Fe', 'occu': 1}],\n",
       "   'xyz': [0.0, 0.0, 0.0]},\n",
       "  {'abc': [0.5, 0.5, 0.5],\n",
       "   'label': 'Fe',\n",
       "   'species': [{'element': 'Fe', 'occu': 1}],\n",
       "   'xyz': [1.4, 1.4, 1.4]}]}"
      ]
     },
     "execution_count": 43,
     "metadata": {},
     "output_type": "execute_result"
    }
   ],
   "source": [
    "bcc_fe.as_dict()"
   ]
  },
  {
   "cell_type": "markdown",
   "metadata": {},
   "source": [
    "# 4. Symmetry Analysis with SymmetryAnalyzer\n",
    "\n",
    "In addition to book-keeping of structures using `Structure` objects, pymatgen contains powerful tools for analyzing crystal symmetry and comparing structures.  The `SymmetryAnalyzer` object uses the powerful spglib symmetry analysis library, which is written in C for more efficient determination of invariant symmetry operations and crystal symmetry. \n",
    "The symmetry analyzer can be used to get primitive and standardized conventional cell settings of structures.\n",
    "\n",
    "These examples shows how to get the primitive structure of BCC iron using `SpacegroupAnalyzer` and how to get the point group of the CO molecule created above using `PointGroupAnalyzer`."
   ]
  },
  {
   "cell_type": "code",
   "execution_count": 44,
   "metadata": {},
   "outputs": [],
   "source": [
    "from pymatgen.symmetry.analyzer import SpacegroupAnalyzer, PointGroupAnalyzer"
   ]
  },
  {
   "cell_type": "code",
   "execution_count": 45,
   "metadata": {},
   "outputs": [
    {
     "name": "stdout",
     "output_type": "stream",
     "text": [
      "Full Formula (Fe1)\n",
      "Reduced Formula: Fe\n",
      "abc   :   2.424871   2.424871   2.424871\n",
      "angles: 109.471221 109.471221 109.471221\n",
      "Sites (1)\n",
      "  #  SP      a    b    c\n",
      "---  ----  ---  ---  ---\n",
      "  0  Fe      0    0    0\n"
     ]
    }
   ],
   "source": [
    "sga = SpacegroupAnalyzer(bcc_fe)\n",
    "prim = sga.get_primitive_standard_structure()\n",
    "print(prim)  # note the primitive structure has only a single site"
   ]
  },
  {
   "cell_type": "code",
   "execution_count": 46,
   "metadata": {},
   "outputs": [
    {
     "name": "stdout",
     "output_type": "stream",
     "text": [
      "Full Formula (Fe2)\n",
      "Reduced Formula: Fe\n",
      "abc   :   2.800000   2.800000   2.800000\n",
      "angles:  90.000000  90.000000  90.000000\n",
      "Sites (2)\n",
      "  #  SP      a    b    c\n",
      "---  ----  ---  ---  ---\n",
      "  0  Fe    0.5  0.5  0.5\n",
      "  1  Fe    0    0    0\n"
     ]
    }
   ],
   "source": [
    "std = sga.get_conventional_standard_structure()  # whereas the conventional structure has two\n",
    "print(std)"
   ]
  },
  {
   "cell_type": "code",
   "execution_count": 47,
   "metadata": {},
   "outputs": [
    {
     "name": "stdout",
     "output_type": "stream",
     "text": [
      "Crystal system: cubic\n",
      "Spacegroup symbol: Im-3m\n"
     ]
    }
   ],
   "source": [
    "print(\"Crystal system:\", sga.get_crystal_system())\n",
    "print(\"Spacegroup symbol:\", sga.get_space_group_symbol())"
   ]
  },
  {
   "cell_type": "markdown",
   "metadata": {},
   "source": [
    "Similarly, we can use `PointGroupAnalyzer` to get the point group of a molecule:"
   ]
  },
  {
   "cell_type": "code",
   "execution_count": 48,
   "metadata": {},
   "outputs": [
    {
     "name": "stdout",
     "output_type": "stream",
     "text": [
      "C*v\n"
     ]
    }
   ],
   "source": [
    "pga = PointGroupAnalyzer(my_molecule)\n",
    "print(pga.get_pointgroup())"
   ]
  },
  {
   "cell_type": "markdown",
   "metadata": {},
   "source": [
    "# 5. Example of calculating X-ray Diffraction (XRD) Pattern\n",
    "\n",
    "在 pymatgen 中我们也可以分析其晶格和电子性质, 比如 `XRDCalculator` 就是帮助计算晶体 XRD 理论谱线."
   ]
  },
  {
   "cell_type": "code",
   "execution_count": 49,
   "metadata": {},
   "outputs": [],
   "source": [
    "from pymatgen.analysis.diffraction.xrd import XRDCalculator\n",
    "xrdc = XRDCalculator()"
   ]
  },
  {
   "cell_type": "code",
   "execution_count": 50,
   "metadata": {},
   "outputs": [
    {
     "name": "stdout",
     "output_type": "stream",
     "text": [
      "[{'hkl': (1, 1, 1), 'multiplicity': 8}]\n",
      "[{'hkl': (2, 0, 0), 'multiplicity': 6}]\n",
      "[{'hkl': (2, 2, 0), 'multiplicity': 12}]\n",
      "[{'hkl': (3, 1, 1), 'multiplicity': 24}]\n",
      "[{'hkl': (2, 2, 2), 'multiplicity': 8}]\n",
      "[{'hkl': (4, 0, 0), 'multiplicity': 6}]\n",
      "[{'hkl': (3, 3, 1), 'multiplicity': 24}]\n",
      "[{'hkl': (4, 2, 0), 'multiplicity': 24}]\n",
      "[{'hkl': (4, 2, 2), 'multiplicity': 24}]\n",
      "[{'hkl': (5, 1, 1), 'multiplicity': 24}, {'hkl': (3, 3, 3), 'multiplicity': 8}]\n"
     ]
    },
    {
     "data": {
      "text/plain": [
       "<module 'matplotlib.pyplot' from 'C:\\\\Users\\\\Cloudink\\\\Anaconda3\\\\lib\\\\site-packages\\\\matplotlib\\\\pyplot.py'>"
      ]
     },
     "execution_count": 50,
     "metadata": {},
     "output_type": "execute_result"
    }
   ],
   "source": [
    "xrdc.get_plot(nacl)  # plot the XRD pattern of NaCl"
   ]
  },
  {
   "cell_type": "markdown",
   "metadata": {},
   "source": [
    "## 6.0 Matching an unknown structure to an XRD pattern\n",
    "\n",
    "关于上述的计算, 其实有一个很重要的用途, 比如说实验上合成了一种材料 Li$_x$S$_y$, 但是不知道其晶格的结构. 测量的晶体结构 XRD 谱图如下所示. \n",
    "\n",
    "![LiS XRD](https://raw.githubusercontent.com/materialsproject/workshop-2017/master/pymatgen/core/LiS_XRD.png)\n",
    "\n",
    "We can generate a series of XRD plots for different structures in the Li-S chemical system to find one that matches. Later, we will show how to obtain these structures from the Materials Project database, but for now let's load them from a file:"
   ]
  },
  {
   "cell_type": "code",
   "execution_count": 51,
   "metadata": {},
   "outputs": [],
   "source": [
    "lis_structures = loadfn(\"li_s_structures.json\")"
   ]
  },
  {
   "cell_type": "code",
   "execution_count": 52,
   "metadata": {},
   "outputs": [
    {
     "name": "stdout",
     "output_type": "stream",
     "text": [
      "[{'hkl': (1, 1, 1), 'multiplicity': 2}, {'hkl': (1, 0, 0), 'multiplicity': 6}]\n",
      "[{'hkl': (1, 1, 0), 'multiplicity': 6}]\n",
      "[{'hkl': (2, 1, 1), 'multiplicity': 6}, {'hkl': (1, 0, -1), 'multiplicity': 6}]\n",
      "[{'hkl': (2, 2, 1), 'multiplicity': 6}, {'hkl': (2, 0, 1), 'multiplicity': 10}, {'hkl': (1, 1, -1), 'multiplicity': 6}]\n",
      "[{'hkl': (2, 1, 0), 'multiplicity': 2}]\n",
      "[{'hkl': (2, 2, 2), 'multiplicity': 2}, {'hkl': (2, 0, 0), 'multiplicity': 6}]\n",
      "[{'hkl': (2, 2, 0), 'multiplicity': 6}]\n",
      "[{'hkl': (3, 2, 2), 'multiplicity': 6}, {'hkl': (1, 3, 1), 'multiplicity': 4}, {'hkl': (1, -2, 0), 'multiplicity': 4}]\n",
      "[{'hkl': (2, 0, -1), 'multiplicity': 8}, {'hkl': (3, 1, 1), 'multiplicity': 2}]\n",
      "[{'hkl': (2, 3, 1), 'multiplicity': 6}, {'hkl': (1, -2, -1), 'multiplicity': 2}]\n",
      "[{'hkl': (3, 2, 1), 'multiplicity': 6}, {'hkl': (2, 1, -1), 'multiplicity': 10}]\n"
     ]
    },
    {
     "data": {
      "text/plain": [
       "<module 'matplotlib.pyplot' from 'C:\\\\Users\\\\Cloudink\\\\Anaconda3\\\\lib\\\\site-packages\\\\matplotlib\\\\pyplot.py'>"
      ]
     },
     "execution_count": 52,
     "metadata": {},
     "output_type": "execute_result"
    },
    {
     "data": {
      "image/png": "[encoded data removed]",
      "text/plain": [
       "<Figure size 1152x720 with 1 Axes>"
      ]
     },
     "metadata": {},
     "output_type": "display_data"
    }
   ],
   "source": [
    "xrdc.get_plot(lis_structures[0])  # let's examine each in turn, starting with the first (0)"
   ]
  },
  {
   "cell_type": "code",
   "execution_count": null,
   "metadata": {
    "scrolled": true
   },
   "outputs": [],
   "source": [
    "for structure in lis_structures:\n",
    "    xrdc.get_plot(structure)"
   ]
  },
  {
   "cell_type": "markdown",
   "metadata": {},
   "source": [
    "# 6. Example: Creating a surface\n",
    "\n",
    "Here, we show how to generate all of the low-index facets for BCC Fe."
   ]
  },
  {
   "cell_type": "code",
   "execution_count": 54,
   "metadata": {},
   "outputs": [],
   "source": [
    "from pymatgen.core.surface import generate_all_slabs"
   ]
  },
  {
   "cell_type": "code",
   "execution_count": 55,
   "metadata": {},
   "outputs": [],
   "source": [
    "slabs = generate_all_slabs(bcc_fe, 1, 4, 10)"
   ]
  },
  {
   "cell_type": "code",
   "execution_count": 56,
   "metadata": {},
   "outputs": [
    {
     "name": "stdout",
     "output_type": "stream",
     "text": [
      "Slab Summary (Fe6)\n",
      "Reduced Formula: Fe\n",
      "Miller index: (1, 1, 1)\n",
      "Shift: 0.2500, Scale Factor: [[-1  1  0]\n",
      " [-1  0  1]\n",
      " [ 1  0  0]]\n",
      "abc   :   3.959798   3.959798  28.000000\n",
      "angles: 135.000000 135.000000  60.000000\n",
      "Sites (6)\n",
      "1 Fe     0.000000     0.000000     0.075000\n",
      "2 Fe     0.500000     0.500000     0.025000\n",
      "3 Fe     0.000000     0.000000     0.175000\n",
      "4 Fe     0.500000     0.500000     0.125000\n",
      "5 Fe     0.000000     0.000000     0.275000\n",
      "6 Fe     0.500000     0.500000     0.225000\n"
     ]
    }
   ],
   "source": [
    "first_slab = slabs[0]\n",
    "print(first_slab)"
   ]
  },
  {
   "cell_type": "code",
   "execution_count": 57,
   "metadata": {},
   "outputs": [
    {
     "name": "stdout",
     "output_type": "stream",
     "text": [
      "(1, 1, 1)\n",
      "(1, 1, 0)\n",
      "(1, 0, 0)\n"
     ]
    }
   ],
   "source": [
    "for slab in slabs:\n",
    "    print(slab.miller_index)"
   ]
  },
  {
   "cell_type": "markdown",
   "metadata": {},
   "source": [
    "# Summary\n",
    "\n",
    "This notebook is intended to provide a short introduction to some of the functionality of pymatgen. We've examined the building blocks of pymatgen: the `Structure` and `Molecule` objects, and the `Lattice`, `Element`, `Specie` and `Composition` objects used to make them. We have also seen some simple examples of pymatgen's analysis capabilities."
   ]
  }
 ],
 "metadata": {
  "kernelspec": {
   "display_name": "Python 3",
   "language": "python",
   "name": "python3"
  },
  "language_info": {
   "codemirror_mode": {
    "name": "ipython",
    "version": 3
   },
   "file_extension": ".py",
   "mimetype": "text/x-python",
   "name": "python",
   "nbconvert_exporter": "python",
   "pygments_lexer": "ipython3",
   "version": "3.6.4"
  }
 },
 "nbformat": 4,
 "nbformat_minor": 2
}
